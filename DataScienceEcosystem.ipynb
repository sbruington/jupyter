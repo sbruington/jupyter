{
 "cells": [
  {
   "cell_type": "markdown",
   "id": "d6ca659c-9028-4090-81ce-4ff417491620",
   "metadata": {},
   "source": [
    "# Data Science Tools and Ecosystem"
   ]
  },
  {
   "cell_type": "markdown",
   "id": "9bf19617-2d4f-4e8a-af35-d5a87adfa737",
   "metadata": {},
   "source": [
    "### Objectives: \n",
    "1. Popular Languages\n",
    "2. Commonly Used Libraries\n",
    "3. Tools\n",
    "4. Simple Expressions"
   ]
  },
  {
   "cell_type": "markdown",
   "id": "05d84fac-8b5a-4360-a691-f7ad0b8153eb",
   "metadata": {},
   "source": [
    "In this notebook, Data Science Tools and Ecosystem are summarized."
   ]
  },
  {
   "cell_type": "markdown",
   "id": "4f9ce362-6154-4b07-a007-8b348578647d",
   "metadata": {},
   "source": [
    "Some of the popular languages that Data Scientists use are:\n",
    "1. Python\n",
    "2. R\n",
    "3. SQL\n",
    "4. Julia\n",
    "5. Scala"
   ]
  },
  {
   "cell_type": "markdown",
   "id": "264a27f5-d70a-4390-ba1b-43fc11c0854b",
   "metadata": {},
   "source": [
    "Some of the commonly used libraries used by Data Scientists include:\n",
    "1. NumPy\n",
    "2. Pandas\n",
    "3. Matplotlib\n",
    "4. Scikit-learn\n",
    "5. TensorFlow"
   ]
  },
  {
   "cell_type": "markdown",
   "id": "8676dcf7-b221-4180-be17-42f5d5687184",
   "metadata": {},
   "source": [
    "| Data Science Tools |\n",
    "| --- |\n",
    "| Jupyter Notebook |\n",
    "| Apache Spark |\n",
    "| R Studio |"
   ]
  },
  {
   "cell_type": "markdown",
   "id": "fb17167a-1228-40fd-b211-a7d75202ae15",
   "metadata": {},
   "source": [
    "### Below are a few examples of evaluating arithmetic expressions in Python"
   ]
  },
  {
   "cell_type": "code",
   "execution_count": 13,
   "id": "451d31e9-9539-4777-8d60-00a3fc8ea575",
   "metadata": {},
   "outputs": [
    {
     "data": {
      "text/plain": [
       "17"
      ]
     },
     "execution_count": 13,
     "metadata": {},
     "output_type": "execute_result"
    }
   ],
   "source": [
    "# This a simple arithmetic expression to mutiply then add integers\n",
    "(3*4)+5"
   ]
  },
  {
   "cell_type": "code",
   "execution_count": 27,
   "id": "3ecff369-104b-4ac9-afca-24fee86d02f5",
   "metadata": {},
   "outputs": [
    {
     "data": {
      "text/plain": [
       "3.3333333333333335"
      ]
     },
     "execution_count": 27,
     "metadata": {},
     "output_type": "execute_result"
    }
   ],
   "source": [
    "# This will convert 200 minutes to hours by diving by 60\n",
    "200/60"
   ]
  },
  {
   "cell_type": "markdown",
   "id": "fd99c27c-6d13-423f-ba1e-b4fe2fce50e4",
   "metadata": {},
   "source": [
    "## Author\n",
    "Stephen Bruington"
   ]
  },
  {
   "cell_type": "markdown",
   "id": "6ef70fd0-b4cd-476c-aa1a-e1010d06f5e0",
   "metadata": {},
   "source": [
    "## Author\n",
    "Stephen Bruington"
   ]
  }
 ],
 "metadata": {
  "kernelspec": {
   "display_name": "Python 3 (ipykernel)",
   "language": "python",
   "name": "python3"
  },
  "language_info": {
   "codemirror_mode": {
    "name": "ipython",
    "version": 3
   },
   "file_extension": ".py",
   "mimetype": "text/x-python",
   "name": "python",
   "nbconvert_exporter": "python",
   "pygments_lexer": "ipython3",
   "version": "3.11.7"
  }
 },
 "nbformat": 4,
 "nbformat_minor": 5
}
